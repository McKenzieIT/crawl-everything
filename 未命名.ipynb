{
 "cells": [
  {
   "cell_type": "code",
   "execution_count": 2,
   "metadata": {},
   "outputs": [],
   "source": [
    "import requests\n",
    "import threading\n",
    "import random\n",
    "import logging"
   ]
  },
  {
   "cell_type": "code",
   "execution_count": 7,
   "metadata": {},
   "outputs": [],
   "source": [
    "class UserAgent(object):\n",
    "    _instance_lock = threading.Lock()\n",
    "    \n",
    "    def __init__(self):\n",
    "        self.__agents_pool = list()\n",
    "        with open('./UserAgents/useragents.txt','r') as read_ob:\n",
    "            for line in read_ob.readlines():\n",
    "                self.__agents_pool.append(line.strip())\n",
    "    \n",
    "    def __new__(cls, *args, **kwargs):\n",
    "        if not hasattr(UserAgent, \"_instance\"):\n",
    "            with UserAgent._instance_lock:\n",
    "                if not hasattr(UserAgent, \"_instance\"): \n",
    "                    UserAgent._instance = object.__new__(cls)\n",
    "        return UserAgent._instance\n",
    "    \n",
    "    def get_useragent_randomly(self):\n",
    "        return random.choice(self.__agents_pool)\n",
    "    \n",
    "\n",
    "class Crawl():\n",
    "\n",
    "    def __init__(self):\n",
    "        self.__session = None\n",
    "        self.__headers = {\n",
    "            'User-Agent': UserAgent().get_useragent_randomly(),\n",
    "            'Accept':'text/html,application/xhtml+xml,application/xml;q=0.9,*/*;q=0.8',\n",
    "            'Accept-Language':'zh-cn',\n",
    "        }\n",
    "        \n",
    "    def request_get(self, url, **kwargs):\n",
    "        logging.info('scraping {}...'.format(url))\n",
    "        try:\n",
    "            response = requests.get(url, headers=self.__headers,**kwargs)\n",
    "            if response.status_code == 200:\n",
    "                return response\n",
    "            logging.error('get invalid status code %s while scraping %s', response.status_code, self.__url)\n",
    "        except requests.RequestException:\n",
    "            logging.error('error occurred while scraping %s', url, exc_info=True)\n",
    "        else:\n",
    "            logging.info('scraping {} finished'.format(url))\n",
    "     \n",
    "    def request_post(self, url, **kwargs):\n",
    "        logging.info('scraping {}...'.format(url))\n",
    "        try:\n",
    "            response = requests.post(url, headers=self.__headers,**kwargs)\n",
    "            if response.status_code == 200:\n",
    "                return response\n",
    "            logging.error('get invalid status code %s while scraping %s', response.status_code, self.__url)\n",
    "        except requests.RequestException:\n",
    "            logging.error('error occurred while scraping %s', url, exc_info=True)\n",
    "        else:\n",
    "            logging.info('scraping {} finished'.format(url))\n",
    "    \n",
    "    def session_get(self, url, **kwargs):\n",
    "        self.check_session()\n",
    "        logging.info('scraping {}...'.format(url))\n",
    "        try:\n",
    "            response = self.__session.get(url, headers=self.__headers,**kwargs)\n",
    "            if response.status_code == 200:\n",
    "                return response\n",
    "            logging.error('get invalid status code %s while scraping %s', response.status_code, self.__url)\n",
    "        except requests.RequestException:\n",
    "            logging.error('error occurred while scraping %s', url, exc_info=True)\n",
    "        else:\n",
    "            logging.info('scraping {} finished'.format(url))\n",
    "    \n",
    "    def session_post(self, url, **kwargs):\n",
    "        self.check_session()\n",
    "        logging.info('scraping {}...'.format(url))\n",
    "        try:\n",
    "            response = self.__session.post(url, headers=self.__headers,**kwargs)\n",
    "            if response.status_code == 200:\n",
    "                return response\n",
    "            logging.error('get invalid status code %s while scraping %s', response.status_code, self.__url)\n",
    "        except requests.RequestException:\n",
    "            logging.error('error occurred while scraping %s', url, exc_info=True)\n",
    "        else:\n",
    "            logging.info('scraping {} finished'.format(url))        \n",
    "    def check_session(self):\n",
    "        if self.__session == None:\n",
    "            self.__session = requests.session()\n",
    "        return\n",
    "    \n",
    "    def add_header(self, headers):\n",
    "        for key, value in headers.items():\n",
    "            self.__headers[key] = value\n"
   ]
  },
  {
   "cell_type": "code",
   "execution_count": 8,
   "metadata": {},
   "outputs": [],
   "source": [
    "crawl = Crawl()"
   ]
  },
  {
   "cell_type": "code",
   "execution_count": 9,
   "metadata": {},
   "outputs": [],
   "source": [
    "a = crawl.request_get('http://www.baidu.com',params={'val':1})"
   ]
  },
  {
   "cell_type": "code",
   "execution_count": 11,
   "metadata": {},
   "outputs": [
    {
     "ename": "AttributeError",
     "evalue": "'Response' object has no attribute 'params'",
     "output_type": "error",
     "traceback": [
      "\u001b[0;31m---------------------------------------------------------------------------\u001b[0m",
      "\u001b[0;31mAttributeError\u001b[0m                            Traceback (most recent call last)",
      "\u001b[0;32m<ipython-input-11-46aa47730576>\u001b[0m in \u001b[0;36m<module>\u001b[0;34m\u001b[0m\n\u001b[0;32m----> 1\u001b[0;31m \u001b[0ma\u001b[0m\u001b[0;34m.\u001b[0m\u001b[0mparams\u001b[0m\u001b[0;34m\u001b[0m\u001b[0;34m\u001b[0m\u001b[0m\n\u001b[0m",
      "\u001b[0;31mAttributeError\u001b[0m: 'Response' object has no attribute 'params'"
     ]
    }
   ],
   "source": [
    "a.ge"
   ]
  },
  {
   "cell_type": "code",
   "execution_count": 25,
   "metadata": {},
   "outputs": [],
   "source": [
    "def test(*args, **kwargs):\n",
    "    print(args)\n",
    "    print(kwargs['ss'])"
   ]
  },
  {
   "cell_type": "code",
   "execution_count": 26,
   "metadata": {},
   "outputs": [
    {
     "name": "stdout",
     "output_type": "stream",
     "text": [
      "()\n"
     ]
    },
    {
     "ename": "KeyError",
     "evalue": "'ss'",
     "output_type": "error",
     "traceback": [
      "\u001b[0;31m---------------------------------------------------------------------------\u001b[0m",
      "\u001b[0;31mKeyError\u001b[0m                                  Traceback (most recent call last)",
      "\u001b[0;32m<ipython-input-26-5a4f2252b7cd>\u001b[0m in \u001b[0;36m<module>\u001b[0;34m\u001b[0m\n\u001b[0;32m----> 1\u001b[0;31m \u001b[0mtest\u001b[0m\u001b[0;34m(\u001b[0m\u001b[0mleng\u001b[0m\u001b[0;34m=\u001b[0m\u001b[0;36m10\u001b[0m\u001b[0;34m)\u001b[0m\u001b[0;34m\u001b[0m\u001b[0;34m\u001b[0m\u001b[0m\n\u001b[0m",
      "\u001b[0;32m<ipython-input-25-709688af9483>\u001b[0m in \u001b[0;36mtest\u001b[0;34m(*args, **kwargs)\u001b[0m\n\u001b[1;32m      1\u001b[0m \u001b[0;32mdef\u001b[0m \u001b[0mtest\u001b[0m\u001b[0;34m(\u001b[0m\u001b[0;34m*\u001b[0m\u001b[0margs\u001b[0m\u001b[0;34m,\u001b[0m \u001b[0;34m**\u001b[0m\u001b[0mkwargs\u001b[0m\u001b[0;34m)\u001b[0m\u001b[0;34m:\u001b[0m\u001b[0;34m\u001b[0m\u001b[0;34m\u001b[0m\u001b[0m\n\u001b[1;32m      2\u001b[0m     \u001b[0mprint\u001b[0m\u001b[0;34m(\u001b[0m\u001b[0margs\u001b[0m\u001b[0;34m)\u001b[0m\u001b[0;34m\u001b[0m\u001b[0;34m\u001b[0m\u001b[0m\n\u001b[0;32m----> 3\u001b[0;31m     \u001b[0mprint\u001b[0m\u001b[0;34m(\u001b[0m\u001b[0mkwargs\u001b[0m\u001b[0;34m[\u001b[0m\u001b[0;34m'ss'\u001b[0m\u001b[0;34m]\u001b[0m\u001b[0;34m)\u001b[0m\u001b[0;34m\u001b[0m\u001b[0;34m\u001b[0m\u001b[0m\n\u001b[0m",
      "\u001b[0;31mKeyError\u001b[0m: 'ss'"
     ]
    }
   ],
   "source": [
    "test(leng=10)"
   ]
  },
  {
   "cell_type": "code",
   "execution_count": 89,
   "metadata": {},
   "outputs": [
    {
     "data": {
      "text/plain": [
       "140547238318032"
      ]
     },
     "execution_count": 89,
     "metadata": {},
     "output_type": "execute_result"
    }
   ],
   "source": [
    "id(UserAgent())"
   ]
  },
  {
   "cell_type": "code",
   "execution_count": 88,
   "metadata": {},
   "outputs": [
    {
     "data": {
      "text/plain": [
       "'Mozilla/5.0 (compatible; MSIE 9.0; Windows NT 6.1; Trident/5.0; FunWebProducts)'"
      ]
     },
     "execution_count": 88,
     "metadata": {},
     "output_type": "execute_result"
    }
   ],
   "source": [
    "UserAgent().get_useragent_randomly()"
   ]
  }
 ],
 "metadata": {
  "kernelspec": {
   "display_name": "Python 3",
   "language": "python",
   "name": "python3"
  },
  "language_info": {
   "codemirror_mode": {
    "name": "ipython",
    "version": 3
   },
   "file_extension": ".py",
   "mimetype": "text/x-python",
   "name": "python",
   "nbconvert_exporter": "python",
   "pygments_lexer": "ipython3",
   "version": "3.7.9"
  }
 },
 "nbformat": 4,
 "nbformat_minor": 4
}
